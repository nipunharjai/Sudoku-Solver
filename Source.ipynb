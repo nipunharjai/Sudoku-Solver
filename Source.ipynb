{
 "cells": [
  {
   "cell_type": "code",
   "execution_count": 15,
   "metadata": {},
   "outputs": [],
   "source": [
    "size = 9\n",
    "bypass_input = True"
   ]
  },
  {
   "cell_type": "code",
   "execution_count": 16,
   "metadata": {},
   "outputs": [],
   "source": [
    "def getSudokuGrid():\n",
    "    if not bypass_input:\n",
    "        grid = [[0 for x in range(size)] for y in range(size)]\n",
    "\n",
    "        for i in range(size):\n",
    "            print(\"Enter row {} (space seperated) : \".format(i+1))\n",
    "            input_str = input()\n",
    "            input_list = input_str.split(\" \")\n",
    "\n",
    "            for j in range(len(input_list)):\n",
    "                input_list[j] = int(input_list[j])\n",
    "\n",
    "            grid[i] = input_list\n",
    "\n",
    "        return grid\n",
    "    \n",
    "    \n",
    "def printGrid():\n",
    "    for i in range(size):\n",
    "        for j in range(size):\n",
    "            print(grid[i][j], end = \"\\t\")\n",
    "        print()"
   ]
  },
  {
   "cell_type": "code",
   "execution_count": 19,
   "metadata": {},
   "outputs": [],
   "source": [
    "def isUsedinRowOrCol(grid, row, col, value):\n",
    "    for i in range(9):\n",
    "        if(grid[row][i] == value or grid[i][col] == value):\n",
    "            return True\n",
    "    return False\n",
    "\n",
    "\n",
    "def isUsedin3x3(grid, row, col, value):\n",
    "    for i in range(3):\n",
    "        for j in range(3):\n",
    "            if(grid[i+row][j+col] == value):\n",
    "                return True\n",
    "    return False\n",
    "\n",
    "\n",
    "def isLocationUsable(grid, row, col, value):\n",
    "    if(isUsedinRowOrCol(grid, row, col, value)):\n",
    "        return False\n",
    "    if(isUsedin3x3(grid, row, col, value)):\n",
    "        return False\n",
    "    return True\n"
   ]
  },
  {
   "cell_type": "code",
   "execution_count": 17,
   "metadata": {},
   "outputs": [],
   "source": [
    "def main():\n",
    "    pass"
   ]
  },
  {
   "cell_type": "code",
   "execution_count": 18,
   "metadata": {},
   "outputs": [
    {
     "name": "stdout",
     "output_type": "stream",
     "text": [
      "SOLVED!\n",
      "\n",
      "\n",
      "8\t0\t0\t0\t0\t0\t0\t0\t0\t\n",
      "0\t0\t3\t6\t0\t0\t0\t0\t0\t\n",
      "0\t7\t0\t0\t9\t0\t2\t0\t0\t\n",
      "0\t5\t0\t0\t0\t7\t0\t0\t0\t\n",
      "0\t0\t0\t0\t4\t5\t7\t0\t0\t\n",
      "0\t0\t0\t1\t0\t0\t0\t3\t0\t\n",
      "0\t0\t1\t0\t0\t0\t0\t6\t8\t\n",
      "0\t0\t8\t5\t0\t0\t0\t1\t0\t\n",
      "0\t9\t0\t0\t0\t0\t4\t0\t0\t\n"
     ]
    }
   ],
   "source": [
    "grid =  [ [8, 0, 0, 0, 0, 0, 0, 0, 0],\n",
    "    [0, 0, 3, 6, 0, 0, 0, 0, 0],\n",
    "    [0, 7, 0, 0, 9, 0, 2, 0, 0],\n",
    "    [0, 5, 0, 0, 0, 7, 0, 0, 0],\n",
    "    [0, 0, 0, 0, 4, 5, 7, 0, 0],\n",
    "    [0, 0, 0, 1, 0, 0, 0, 3, 0],\n",
    "    [0, 0, 1, 0, 0, 0, 0, 6, 8],\n",
    "    [0, 0, 8, 5, 0, 0, 0, 1, 0],\n",
    "    [0, 9, 0, 0, 0, 0, 4, 0, 0] ]\n",
    "main()"
   ]
  },
  {
   "cell_type": "code",
   "execution_count": null,
   "metadata": {},
   "outputs": [],
   "source": []
  },
  {
   "cell_type": "code",
   "execution_count": null,
   "metadata": {},
   "outputs": [],
   "source": []
  }
 ],
 "metadata": {
  "kernelspec": {
   "display_name": "Python 3",
   "language": "python",
   "name": "python3"
  },
  "language_info": {
   "codemirror_mode": {
    "name": "ipython",
    "version": 3
   },
   "file_extension": ".py",
   "mimetype": "text/x-python",
   "name": "python",
   "nbconvert_exporter": "python",
   "pygments_lexer": "ipython3",
   "version": "3.7.3"
  }
 },
 "nbformat": 4,
 "nbformat_minor": 2
}
