{
 "cells": [
  {
   "cell_type": "code",
   "execution_count": 1,
   "metadata": {},
   "outputs": [],
   "source": [
    "size = 9\n",
    "bypass_input = True"
   ]
  },
  {
   "cell_type": "code",
   "execution_count": 3,
   "metadata": {},
   "outputs": [
    {
     "name": "stdout",
     "output_type": "stream",
     "text": [
      "Enter row 1 (space seperated) : \n",
      "1 2 3 4 5 6 7 8 9\n",
      "Enter row 2 (space seperated) : \n",
      "9 8 7 6 5 4 3 2 1\n",
      "Enter row 3 (space seperated) : \n",
      "1 2 3 4 5 6 7 8 9\n",
      "Enter row 4 (space seperated) : \n",
      "1 2 3 4 3 2 1 2 3\n",
      "Enter row 5 (space seperated) : \n",
      "1 1 1 1 1 1 1 1 1\n",
      "Enter row 6 (space seperated) : \n",
      "9 9 9 9 9 9 9 9 9\n",
      "Enter row 7 (space seperated) : \n",
      "2 2 2 2 2 2 2 2 2\n",
      "Enter row 8 (space seperated) : \n",
      "1 1 1 1 1 1 1 1 1\n",
      "Enter row 9 (space seperated) : \n",
      "0 0 0 0 0 5 4 3 2\n",
      "1\t2\t3\t4\t5\t6\t7\t8\t9\t\n",
      "9\t8\t7\t6\t5\t4\t3\t2\t1\t\n",
      "1\t2\t3\t4\t5\t6\t7\t8\t9\t\n",
      "1\t2\t3\t4\t3\t2\t1\t2\t3\t\n",
      "1\t1\t1\t1\t1\t1\t1\t1\t1\t\n",
      "9\t9\t9\t9\t9\t9\t9\t9\t9\t\n",
      "2\t2\t2\t2\t2\t2\t2\t2\t2\t\n",
      "1\t1\t1\t1\t1\t1\t1\t1\t1\t\n",
      "0\t0\t0\t0\t0\t5\t4\t3\t2\t\n"
     ]
    }
   ],
   "source": [
    "def getSudokuGrid():\n",
    "    if not bypass_input:\n",
    "        grid = [[0 for x in range(size)] for y in range(size)]\n",
    "\n",
    "        for i in range(size):\n",
    "            print(\"Enter row {} (space seperated) : \".format(i+1))\n",
    "            input_str = input()\n",
    "            input_list = input_str.split(\" \")\n",
    "\n",
    "            for j in range(len(input_list)):\n",
    "                input_list[j] = int(input_list[j])\n",
    "\n",
    "            grid[i] = input_list\n",
    "\n",
    "        return grid\n",
    "    \n",
    "    \n",
    "def printGrid(grid):\n",
    "    for i in range(len(size)):\n",
    "        for j in range(len(size)):\n",
    "            print(grid[i][j], end = \"\\t\")\n",
    "        print()"
   ]
  },
  {
   "cell_type": "code",
   "execution_count": null,
   "metadata": {},
   "outputs": [],
   "source": []
  }
 ],
 "metadata": {
  "kernelspec": {
   "display_name": "Python 3",
   "language": "python",
   "name": "python3"
  },
  "language_info": {
   "codemirror_mode": {
    "name": "ipython",
    "version": 3
   },
   "file_extension": ".py",
   "mimetype": "text/x-python",
   "name": "python",
   "nbconvert_exporter": "python",
   "pygments_lexer": "ipython3",
   "version": "3.7.3"
  }
 },
 "nbformat": 4,
 "nbformat_minor": 2
}
